{
  "nbformat": 4,
  "nbformat_minor": 0,
  "metadata": {
    "colab": {
      "provenance": [],
      "authorship_tag": "ABX9TyN0GR9Y0hDsrDPGnBWxvzVG",
      "include_colab_link": true
    },
    "kernelspec": {
      "name": "python3",
      "display_name": "Python 3"
    },
    "language_info": {
      "name": "python"
    }
  },
  "cells": [
    {
      "cell_type": "markdown",
      "metadata": {
        "id": "view-in-github",
        "colab_type": "text"
      },
      "source": [
        "<a href=\"https://colab.research.google.com/github/sai-coding/Google-Colab-PRO/blob/main/PROJECT_97.ipynb\" target=\"_parent\"><img src=\"https://colab.research.google.com/assets/colab-badge.svg\" alt=\"Open In Colab\"/></a>"
      ]
    },
    {
      "cell_type": "code",
      "execution_count": 4,
      "metadata": {
        "id": "HOoet-fOIEhF"
      },
      "outputs": [],
      "source": [
        "def Guess(num_1, num_2, choice):\n",
        "  result = 0\n",
        "  if choice == '1':\n",
        "    result = num_1 + num_2\n",
        "    print(\"What is\",num_1, \"+\", num_2, \"?\")\n",
        "    ans = int(input(\">> \"))\n",
        "    if(result==ans):\n",
        "      print(\"Good Job! The answer is correct\")\n",
        "\n",
        "  elif  choice == '2':\n",
        "    result = num_1 + num_2\n",
        "    print(\"What is\",num_1, \"+\", num_2, \"?\")\n",
        "    ans = int(input(\">> \"))\n",
        "    if(result==ans):\n",
        "      print(\"Good Job! The answer is correct\")\n",
        "  else:\n",
        "    print(\"Oops! The answer is nor correct :(\")\n",
        "    print(\"The correct answer is : \",result)"
      ]
    },
    {
      "cell_type": "code",
      "source": [
        "import random\n",
        "\n",
        "print(\"Choose operation from below: \")\n",
        "print(\"1. Add\")\n",
        "print(\"2. Subtract\")\n",
        "print(\"3. Multiply\")\n",
        "print(\"4. Divide\")\n",
        "print(\"5. Modulus\")\n",
        "\n",
        "\n",
        "# Take input from the user\n",
        "choice = input(\"Enter option number(1/2/3/4/5): \")\n",
        "choices = ('1', '2', '3', '4', '5')\n",
        "\n",
        "if choice in choices:\n",
        "\n",
        "    num_1 = random.randint(0,9)\n",
        "    num_2 = random.randint(0,9)\n",
        "\n",
        "    Guess(num_1, num_2, choice)\n",
        "\n",
        "else:\n",
        "    print(\"Invalid Input\")"
      ],
      "metadata": {
        "colab": {
          "base_uri": "https://localhost:8080/"
        },
        "id": "7AkmXgH6ObbS",
        "outputId": "671f5b73-fc85-4def-a52a-80e3c305017e"
      },
      "execution_count": 5,
      "outputs": [
        {
          "output_type": "stream",
          "name": "stdout",
          "text": [
            "Choose operation from below: \n",
            "1. Add\n",
            "2. Subtract\n",
            "3. Multiply\n",
            "4. Divide\n",
            "5. Modulus\n",
            "Enter option number(1/2/3/4/5): 1\n",
            "What is 5 + 9 ?\n",
            ">> 14\n",
            "Good Job! The answer is correct\n"
          ]
        }
      ]
    }
  ]
}