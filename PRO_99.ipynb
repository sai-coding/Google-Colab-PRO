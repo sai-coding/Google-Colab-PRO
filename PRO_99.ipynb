{
  "nbformat": 4,
  "nbformat_minor": 0,
  "metadata": {
    "colab": {
      "provenance": [],
      "authorship_tag": "ABX9TyMbFjVDVGJ+aFyaGQBQ+sfd",
      "include_colab_link": true
    },
    "kernelspec": {
      "name": "python3",
      "display_name": "Python 3"
    },
    "language_info": {
      "name": "python"
    }
  },
  "cells": [
    {
      "cell_type": "markdown",
      "metadata": {
        "id": "view-in-github",
        "colab_type": "text"
      },
      "source": [
        "<a href=\"https://colab.research.google.com/github/sai-coding/Google-Colab-PRO/blob/main/PRO_99.ipynb\" target=\"_parent\"><img src=\"https://colab.research.google.com/assets/colab-badge.svg\" alt=\"Open In Colab\"/></a>"
      ]
    },
    {
      "cell_type": "code",
      "execution_count": 1,
      "metadata": {
        "colab": {
          "base_uri": "https://localhost:8080/"
        },
        "id": "1oXZLgMJ1vGf",
        "outputId": "5e575c80-0c8f-4e31-ef88-a927caad1c31"
      },
      "outputs": [
        {
          "output_type": "stream",
          "name": "stdout",
          "text": [
            "Enter your name :  Sai\n",
            "S * * \n",
            "* a * \n",
            "* * i \n"
          ]
        }
      ],
      "source": [
        "name=(input(\"Enter your name :  \"))\n",
        "iteration = len(name)\n",
        "for i in range(0,iteration):\n",
        "  for j in range(0,iteration):\n",
        "    if(i==j):\n",
        "      print(name[j],sep=\" \",end=\" \")\n",
        "    else:\n",
        "      print(\"*\",sep=\" \",end=\" \")\n",
        "  print()"
      ]
    }
  ]
}